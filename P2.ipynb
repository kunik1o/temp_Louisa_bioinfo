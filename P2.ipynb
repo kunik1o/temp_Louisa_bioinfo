{
 "cells": [
  {
   "cell_type": "code",
   "execution_count": null,
   "id": "e5abadd1-4042-46b6-b894-de61a53ff470",
   "metadata": {},
   "outputs": [],
   "source": [
    "library(ggplot2)\n",
    "mydata<-read.table(\"CV_for_plot.txt\",header=T,sep=\"\\t\")\n",
    "qplot(x=K,y=CV_error,color=I('black'),data=mydata)+geom_line(color=\"red\",lwd=1)"
   ]
  }
 ],
 "metadata": {
  "kernelspec": {
   "display_name": "R",
   "language": "R",
   "name": "ir"
  },
  "language_info": {
   "codemirror_mode": "r",
   "file_extension": ".r",
   "mimetype": "text/x-r-source",
   "name": "R",
   "pygments_lexer": "r",
   "version": "4.1.2"
  }
 },
 "nbformat": 4,
 "nbformat_minor": 5
}
