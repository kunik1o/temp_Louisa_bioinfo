{
 "cells": [
  {
   "cell_type": "markdown",
   "id": "ed22d7f8-3348-4393-8cc7-fd1a30c11b88",
   "metadata": {},
   "source": [
    "# S1. deploy dev environment"
   ]
  },
  {
   "cell_type": "markdown",
   "id": "a7a96a4a-cfcb-4433-b56e-7f091ddde93a",
   "metadata": {},
   "source": [
    "## vcftools"
   ]
  },
  {
   "cell_type": "markdown",
   "id": "80d03357-11e4-4771-9270-0b65f9382a27",
   "metadata": {},
   "source": [
    "run this in bash\n",
    "```shell\n",
    "conda activate\n",
    "conda install -c bioconda vcftools\n",
    "```"
   ]
  },
  {
   "cell_type": "code",
   "execution_count": 1,
   "id": "29daa832-2a22-4926-832e-5c439f613bb2",
   "metadata": {},
   "outputs": [
    {
     "name": "stdout",
     "output_type": "stream",
     "text": [
      "\n",
      "VCFtools (0.1.16)\n",
      "© Adam Auton and Anthony Marcketta 2009\n",
      "\n",
      "Process Variant Call Format files\n",
      "\n",
      "For a list of options, please go to:\n",
      "\thttps://vcftools.github.io/man_latest.html\n",
      "\n",
      "Alternatively, a man page is available, type:\n",
      "\tman vcftools\n",
      "\n",
      "Questions, comments, and suggestions should be emailed to:\n",
      "\tvcftools-help@lists.sourceforge.net\n",
      "\n"
     ]
    }
   ],
   "source": [
    "!vcftools"
   ]
  },
  {
   "cell_type": "markdown",
   "id": "353adb18-ebc3-4ef5-b342-d3002eb44a28",
   "metadata": {},
   "source": [
    "## plink"
   ]
  },
  {
   "cell_type": "markdown",
   "id": "28903a82-a206-41ac-a574-dd000da128ec",
   "metadata": {},
   "source": [
    "run this in bash\n",
    "```shell\n",
    "conda install -c bioconda plink\n",
    "```"
   ]
  },
  {
   "cell_type": "code",
   "execution_count": 2,
   "id": "cf265e19-dcd7-467a-b50e-24b887152535",
   "metadata": {},
   "outputs": [
    {
     "name": "stdout",
     "output_type": "stream",
     "text": [
      "PLINK v1.90b6.21 64-bit (19 Oct 2020)          www.cog-genomics.org/plink/1.9/\n",
      "(C) 2005-2020 Shaun Purcell, Christopher Chang   GNU General Public License v3\n",
      "\n",
      "  plink <input flag(s)...> [command flag(s)...] [other flag(s)...]\n",
      "  plink --help [flag name(s)...]\n",
      "\n",
      "Commands include --make-bed, --recode, --flip-scan, --merge-list,\n",
      "--write-snplist, --list-duplicate-vars, --freqx, --missing, --test-mishap,\n",
      "--hardy, --mendel, --ibc, --impute-sex, --indep-pairphase, --r2, --show-tags,\n",
      "--blocks, --distance, --genome, --homozyg, --make-rel, --make-grm-gz,\n",
      "--rel-cutoff, --cluster, --pca, --neighbour, --ibs-test, --regress-distance,\n",
      "--model, --bd, --gxe, --logistic, --dosage, --lasso, --test-missing,\n",
      "--make-perm-pheno, --tdt, --qfam, --annotate, --clump, --gene-report,\n",
      "--meta-analysis, --epistasis, --fast-epistasis, and --score.\n",
      "\n",
      "\"plink --help | more\" describes all functions (warning: long).\n"
     ]
    }
   ],
   "source": [
    "!plink"
   ]
  },
  {
   "cell_type": "markdown",
   "id": "b62f771a-7c28-4a18-b64e-17d21b17c1b9",
   "metadata": {},
   "source": [
    "## r & ggplot2"
   ]
  },
  {
   "cell_type": "markdown",
   "id": "0a353853-b0b2-48b6-a90f-a99942b98257",
   "metadata": {},
   "source": [
    "```shell\n",
    "conda install r r-ggplot2 -c r\n",
    "```"
   ]
  },
  {
   "cell_type": "code",
   "execution_count": 3,
   "id": "ce4d6cde-4d4f-48f6-9a5e-9b69656d79a9",
   "metadata": {},
   "outputs": [
    {
     "name": "stdout",
     "output_type": "stream",
     "text": [
      "R version 4.1.2 (2021-11-01) -- \"Bird Hippie\"\n",
      "Copyright (C) 2021 The R Foundation for Statistical Computing\n",
      "Platform: x86_64-conda-linux-gnu (64-bit)\n",
      "\n",
      "R is free software and comes with ABSOLUTELY NO WARRANTY.\n",
      "You are welcome to redistribute it under the terms of the\n",
      "GNU General Public License versions 2 or 3.\n",
      "For more information about these matters see\n",
      "https://www.gnu.org/licenses/.\n",
      "\n"
     ]
    }
   ],
   "source": [
    "!R --version"
   ]
  },
  {
   "cell_type": "markdown",
   "id": "835dd3ad-e4b2-4cbd-a87f-b2bdc7575088",
   "metadata": {},
   "source": [
    "# S2. analyze"
   ]
  },
  {
   "cell_type": "code",
   "execution_count": 4,
   "id": "ee1536fa-343d-45fa-bea8-e77e00659a26",
   "metadata": {},
   "outputs": [],
   "source": [
    "!#vcftools --vcf  [YOUR_FILE_NAME].vcf --plink --out plink"
   ]
  },
  {
   "cell_type": "code",
   "execution_count": 5,
   "id": "4668b32a-3de6-47b3-a15f-e163c20c2859",
   "metadata": {},
   "outputs": [],
   "source": [
    "!#plink --noweb --file plink --maf 0.05 --hwe 0.0001 --make-bed --out filter"
   ]
  },
  {
   "cell_type": "code",
   "execution_count": 6,
   "id": "e10a5fe2-8236-4e8d-8cfe-2433b2db7e33",
   "metadata": {},
   "outputs": [],
   "source": [
    "!#for i in {1..10};do admixture --cv filter.bed $i|tee out${i};done"
   ]
  },
  {
   "cell_type": "code",
   "execution_count": 7,
   "id": "a5a5373b-4f55-4300-b59d-7186eb859825",
   "metadata": {},
   "outputs": [],
   "source": [
    "!#grep -h CV out|awk -F ':' '{print NR\"\\t\"$2}'|sed '1i\\\\K\\tCV_error' > CV_for_plot.txt"
   ]
  },
  {
   "cell_type": "code",
   "execution_count": null,
   "id": "60d4cd87-899a-473a-a15e-bb963561b70f",
   "metadata": {},
   "outputs": [],
   "source": []
  }
 ],
 "metadata": {
  "kernelspec": {
   "display_name": "Python 3 (ipykernel)",
   "language": "python",
   "name": "python3"
  },
  "language_info": {
   "codemirror_mode": {
    "name": "ipython",
    "version": 3
   },
   "file_extension": ".py",
   "mimetype": "text/x-python",
   "name": "python",
   "nbconvert_exporter": "python",
   "pygments_lexer": "ipython3",
   "version": "3.9.7"
  }
 },
 "nbformat": 4,
 "nbformat_minor": 5
}
